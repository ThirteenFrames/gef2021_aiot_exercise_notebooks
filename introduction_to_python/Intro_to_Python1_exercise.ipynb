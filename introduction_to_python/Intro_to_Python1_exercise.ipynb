{
 "cells": [
  {
   "cell_type": "markdown",
   "metadata": {
    "id": "I2KP5gAzZ9U6"
   },
   "source": [
    "# Exercise 1"
   ]
  },
  {
   "cell_type": "code",
   "execution_count": 4,
   "metadata": {
    "id": "G44U1WpZZ9U-"
   },
   "outputs": [
    {
     "name": "stdout",
     "output_type": "stream",
     "text": [
      "What is your name?\n",
      "Mary\n",
      "Hi,  Mary\n"
     ]
    }
   ],
   "source": [
    "inp = input(\"What is your name?\\n\")\n",
    "print(\"Hi, \", inp)"
   ]
  },
  {
   "cell_type": "markdown",
   "metadata": {
    "id": "OL_g0JKfZ9VE"
   },
   "source": [
    "# Exercise2"
   ]
  },
  {
   "cell_type": "code",
   "execution_count": null,
   "metadata": {
    "id": "9QWTc4XbZ9VF"
   },
   "outputs": [],
   "source": [
    "a = '0'\n",
    "b = int(a)\n",
    "print(b)"
   ]
  },
  {
   "cell_type": "code",
   "execution_count": null,
   "metadata": {
    "id": "jDTr_lCnZ9VJ"
   },
   "outputs": [],
   "source": [
    "bool()"
   ]
  },
  {
   "cell_type": "markdown",
   "metadata": {
    "id": "of0fLQn7Z9VM"
   },
   "source": [
    "# Exercise3\n"
   ]
  },
  {
   "cell_type": "code",
   "execution_count": null,
   "metadata": {
    "id": "kIFZzB0LZ9VN"
   },
   "outputs": [],
   "source": [
    "apple = \"appleorange\"\n",
    "apple[3:4]"
   ]
  },
  {
   "cell_type": "code",
   "execution_count": null,
   "metadata": {
    "id": "OCkUWcfIZ9VR"
   },
   "outputs": [],
   "source": []
  },
  {
   "cell_type": "markdown",
   "metadata": {
    "id": "6mq1UBS9Z9VU"
   },
   "source": [
    "# Exercise4"
   ]
  },
  {
   "cell_type": "code",
   "execution_count": null,
   "metadata": {
    "id": "W_kwTE6OZ9VV"
   },
   "outputs": [],
   "source": [
    "John = 60\n",
    "Matt = 70\n",
    "Brian = 90\n",
    "\n",
    "sum = John + Matt + Brian\n",
    "mean = sum/3\n",
    "print(sum, mean)"
   ]
  },
  {
   "cell_type": "markdown",
   "metadata": {
    "id": "9lrFLnwRZ9VY"
   },
   "source": [
    "# Exercise 5"
   ]
  },
  {
   "cell_type": "code",
   "execution_count": null,
   "metadata": {
    "id": "rMOhYZejZ9VZ"
   },
   "outputs": [],
   "source": [
    "x = 2\n",
    "y = 2\n",
    "print(id(x))\n",
    "print(id(y))"
   ]
  },
  {
   "cell_type": "markdown",
   "metadata": {
    "id": "Fj5Mxf5UZ9Vd"
   },
   "source": [
    "# Exercise 6"
   ]
  },
  {
   "cell_type": "code",
   "execution_count": null,
   "metadata": {
    "id": "TU1zRHOLZ9Vf"
   },
   "outputs": [],
   "source": [
    "sentence = \"Beautiful is better than ugly. Explicit is better than implicit\"\n",
    "arr = sentence.split(' ')\n",
    "targetword = arr[5]\n",
    "charNum = len(sentence)\n",
    "wordNum = len(arr)\n",
    "print(targetword, charNum, wordNum)"
   ]
  },
  {
   "cell_type": "code",
   "execution_count": null,
   "metadata": {
    "id": "sA7etwODLN61"
   },
   "outputs": [],
   "source": []
  },
  {
   "cell_type": "markdown",
   "metadata": {
    "id": "iDG62IqhZ9Vn"
   },
   "source": [
    "# Exercise7"
   ]
  },
  {
   "cell_type": "code",
   "execution_count": null,
   "metadata": {
    "id": "-BpuGBxKZ9Vo"
   },
   "outputs": [],
   "source": [
    "numbers = (1)\n",
    "print(type(numbers))\n",
    "numbers2 = (1,)\n",
    "print(type(numbers2))"
   ]
  },
  {
   "cell_type": "markdown",
   "metadata": {
    "id": "zZGm0kx5Z9Vs"
   },
   "source": [
    "# Exercise8"
   ]
  },
  {
   "cell_type": "code",
   "execution_count": null,
   "metadata": {
    "id": "fhFtP0NMZ9Vt"
   },
   "outputs": [],
   "source": [
    "student = {'name': 'Mary', 'age':'22', 'name':'Peter'}\n",
    "print(student.get('name'))"
   ]
  },
  {
   "cell_type": "code",
   "execution_count": null,
   "metadata": {
    "id": "y1RpnXh4MiWS"
   },
   "outputs": [],
   "source": []
  },
  {
   "cell_type": "markdown",
   "metadata": {
    "id": "ng9CbysaZ9Vw"
   },
   "source": [
    "# Exercise9"
   ]
  },
  {
   "cell_type": "code",
   "execution_count": null,
   "metadata": {
    "id": "8x_4z2U0Z9Vy"
   },
   "outputs": [],
   "source": [
    "inp = input(\"Please enter a phone number: \")\n",
    "\n",
    "\n",
    "validLength = 8\n",
    "validFirst = [2, 3, 5, 6, 9]\n",
    "\n",
    "\n",
    "flag = True\n",
    "if len(inp) != validLength:\n",
    "  flag = False\n",
    "elif int(inp[0]) not in validFirst:\n",
    "  flag = False\n",
    "if flag == True:\n",
    "  print(\"Valid phone number\")\n",
    "if flag == False:\n",
    "  print(\"Invalid phone number, please try again\")"
   ]
  },
  {
   "cell_type": "code",
   "execution_count": null,
   "metadata": {
    "id": "AR-ELqvANQqo"
   },
   "outputs": [],
   "source": []
  },
  {
   "cell_type": "markdown",
   "metadata": {
    "id": "FH80WJizZ9V0"
   },
   "source": [
    "# Exercise10"
   ]
  },
  {
   "cell_type": "code",
   "execution_count": null,
   "metadata": {},
   "outputs": [],
   "source": [
    "for i in range(11, 26, 2):\n",
    "  print(i, end=\" \")"
   ]
  },
  {
   "cell_type": "markdown",
   "metadata": {},
   "source": [
    "# Exercise 11"
   ]
  },
  {
   "cell_type": "code",
   "execution_count": null,
   "metadata": {
    "id": "7SLb0xcYZ9V1"
   },
   "outputs": [],
   "source": [
    "\n",
    "validLength = 8\n",
    "validFirst = [2, 3, 5, 6, 9]\n",
    "\n",
    "flag = False\n",
    "while(flag == False):\n",
    "\n",
    "  flag = True\n",
    "  inp = input(\"Please enter a phone number: \")\n",
    "  \n",
    "  if len(inp) != validLength:\n",
    "    flag = False\n",
    "  elif int(inp[0]) not in validFirst:\n",
    "    flag = False\n",
    "\n",
    "  if flag == True:\n",
    "    print(\"Valid phone number\")\n",
    "  if flag == False:\n",
    "    print(\"Invalid phone number, please try again\")"
   ]
  },
  {
   "cell_type": "markdown",
   "metadata": {
    "id": "F6_d7iGHYegB"
   },
   "source": [
    "# Exercise12\n"
   ]
  },
  {
   "cell_type": "code",
   "execution_count": 23,
   "metadata": {
    "id": "Ki5FT_M_YhOz"
   },
   "outputs": [
    {
     "name": "stdout",
     "output_type": "stream",
     "text": [
      "arr before sorting: [5, 3, 8, 7, 1]\n",
      "arr after sorting: [1, 3, 5, 7, 8]\n"
     ]
    }
   ],
   "source": [
    "import numpy as np\n",
    "\n",
    "arr = [5,3,8,7,1]\n",
    "#arr = np.random.randint(0,1000,10) #Uncommment this line to generate an array of random integers\n",
    "\n",
    "print('arr before sorting:', arr)\n",
    "\n",
    "#====================================================\n",
    "#Write your insertion sort here\n",
    "\n",
    "l = len(arr)\n",
    "\n",
    "for i in range(1, l):\n",
    "    val = arr[i]\n",
    "    j = i-1\n",
    "    while val < arr[j] and j >= 0:\n",
    "        arr[j+1] = arr[j]\n",
    "        j-=1\n",
    "    arr[j+1] = val\n",
    "\n",
    "\n",
    "\n",
    "#====================================================\n",
    "\n",
    "print('arr after sorting:', arr)"
   ]
  },
  {
   "cell_type": "code",
   "execution_count": null,
   "metadata": {
    "id": "FhnlHbOglAn-"
   },
   "outputs": [],
   "source": []
  },
  {
   "cell_type": "code",
   "execution_count": null,
   "metadata": {},
   "outputs": [],
   "source": []
  }
 ],
 "metadata": {
  "colab": {
   "collapsed_sections": [],
   "name": "Intro_to_Python1_exercise.ipynb",
   "provenance": []
  },
  "kernelspec": {
   "display_name": "Python 3 (ipykernel)",
   "language": "python",
   "name": "python3"
  },
  "language_info": {
   "codemirror_mode": {
    "name": "ipython",
    "version": 3
   },
   "file_extension": ".py",
   "mimetype": "text/x-python",
   "name": "python",
   "nbconvert_exporter": "python",
   "pygments_lexer": "ipython3",
   "version": "3.9.12"
  }
 },
 "nbformat": 4,
 "nbformat_minor": 1
}
